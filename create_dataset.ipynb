{
 "cells": [
  {
   "cell_type": "code",
   "execution_count": 1,
   "metadata": {},
   "outputs": [],
   "source": [
    "import os\n",
    "from tqdm import tqdm\n",
    "import pandas as pd"
   ]
  },
  {
   "cell_type": "code",
   "execution_count": 2,
   "metadata": {},
   "outputs": [],
   "source": [
    "base = os.path.join(os.getcwd(), 'data')\n",
    "\n",
    "train_path = os.path.join(base, 'train')\n",
    "val_path = os.path.join(base, 'val')"
   ]
  },
  {
   "cell_type": "code",
   "execution_count": 3,
   "metadata": {},
   "outputs": [],
   "source": [
    "def get_bbox(loc):\n",
    "    return min(loc[0], loc[3]), min(loc[1], loc[7]), max(loc[4], loc[6]), max(loc[3], loc[5])"
   ]
  },
  {
   "cell_type": "code",
   "execution_count": 4,
   "metadata": {},
   "outputs": [],
   "source": [
    "def get_labeltxt(path):\n",
    "    label_path = os.path.join(path, 'labelTxt-Task2')\n",
    "    data = pd.DataFrame(columns=['path', 'x1','y1','x2','y2','class'])\n",
    "    idx = 0\n",
    "\n",
    "    for file_name in tqdm(os.listdir(label_path)):\n",
    "        file = os.path.join(label_path, file_name)\n",
    "\n",
    "        with open(file, 'r') as f:\n",
    "            for line in f.readlines():\n",
    "                loc = [float(i) for i in line.split(' ')[:-2]]\n",
    "\n",
    "                image_path = os.path.join(path, 'images', file_name[:-3] + 'png')\n",
    "                x1, y1, x2, y2 = get_bbox(loc)\n",
    "                clss = line.split(' ')[-2]\n",
    "\n",
    "                data.loc[idx] = {'path':image_path,\n",
    "                                'x1':x1, 'y1':y1, 'x2':x2,'y2':y2,\n",
    "                                'class':clss}\n",
    "                idx += 1\n",
    "    return data"
   ]
  },
  {
   "cell_type": "code",
   "execution_count": 5,
   "metadata": {},
   "outputs": [
    {
     "name": "stderr",
     "output_type": "stream",
     "text": [
      "100%|███████████████████████████████████████████████████████████████████████████| 1411/1411 [13:09<00:00,  1.79it/s]\n"
     ]
    },
    {
     "data": {
      "text/html": [
       "<div>\n",
       "<style scoped>\n",
       "    .dataframe tbody tr th:only-of-type {\n",
       "        vertical-align: middle;\n",
       "    }\n",
       "\n",
       "    .dataframe tbody tr th {\n",
       "        vertical-align: top;\n",
       "    }\n",
       "\n",
       "    .dataframe thead th {\n",
       "        text-align: right;\n",
       "    }\n",
       "</style>\n",
       "<table border=\"1\" class=\"dataframe\">\n",
       "  <thead>\n",
       "    <tr style=\"text-align: right;\">\n",
       "      <th></th>\n",
       "      <th>path</th>\n",
       "      <th>x1</th>\n",
       "      <th>y1</th>\n",
       "      <th>x2</th>\n",
       "      <th>y2</th>\n",
       "      <th>class</th>\n",
       "    </tr>\n",
       "  </thead>\n",
       "  <tbody>\n",
       "    <tr>\n",
       "      <th>0</th>\n",
       "      <td>C:\\Users\\rhkd8\\Desktop\\Faster-RCNN-for-Dota\\da...</td>\n",
       "      <td>2385.0</td>\n",
       "      <td>2385.0</td>\n",
       "      <td>2888.0</td>\n",
       "      <td>2502.0</td>\n",
       "      <td>plane</td>\n",
       "    </tr>\n",
       "    <tr>\n",
       "      <th>1</th>\n",
       "      <td>C:\\Users\\rhkd8\\Desktop\\Faster-RCNN-for-Dota\\da...</td>\n",
       "      <td>3391.0</td>\n",
       "      <td>3391.0</td>\n",
       "      <td>3484.0</td>\n",
       "      <td>3422.0</td>\n",
       "      <td>large-vehicle</td>\n",
       "    </tr>\n",
       "    <tr>\n",
       "      <th>2</th>\n",
       "      <td>C:\\Users\\rhkd8\\Desktop\\Faster-RCNN-for-Dota\\da...</td>\n",
       "      <td>3164.0</td>\n",
       "      <td>4158.0</td>\n",
       "      <td>3195.0</td>\n",
       "      <td>4204.0</td>\n",
       "      <td>large-vehicle</td>\n",
       "    </tr>\n",
       "    <tr>\n",
       "      <th>3</th>\n",
       "      <td>C:\\Users\\rhkd8\\Desktop\\Faster-RCNN-for-Dota\\da...</td>\n",
       "      <td>2866.0</td>\n",
       "      <td>4250.0</td>\n",
       "      <td>2916.0</td>\n",
       "      <td>4283.0</td>\n",
       "      <td>large-vehicle</td>\n",
       "    </tr>\n",
       "    <tr>\n",
       "      <th>4</th>\n",
       "      <td>C:\\Users\\rhkd8\\Desktop\\Faster-RCNN-for-Dota\\da...</td>\n",
       "      <td>628.0</td>\n",
       "      <td>1654.0</td>\n",
       "      <td>644.0</td>\n",
       "      <td>1674.0</td>\n",
       "      <td>small-vehicle</td>\n",
       "    </tr>\n",
       "  </tbody>\n",
       "</table>\n",
       "</div>"
      ],
      "text/plain": [
       "                                                path      x1      y1      x2  \\\n",
       "0  C:\\Users\\rhkd8\\Desktop\\Faster-RCNN-for-Dota\\da...  2385.0  2385.0  2888.0   \n",
       "1  C:\\Users\\rhkd8\\Desktop\\Faster-RCNN-for-Dota\\da...  3391.0  3391.0  3484.0   \n",
       "2  C:\\Users\\rhkd8\\Desktop\\Faster-RCNN-for-Dota\\da...  3164.0  4158.0  3195.0   \n",
       "3  C:\\Users\\rhkd8\\Desktop\\Faster-RCNN-for-Dota\\da...  2866.0  4250.0  2916.0   \n",
       "4  C:\\Users\\rhkd8\\Desktop\\Faster-RCNN-for-Dota\\da...   628.0  1654.0   644.0   \n",
       "\n",
       "       y2          class  \n",
       "0  2502.0          plane  \n",
       "1  3422.0  large-vehicle  \n",
       "2  4204.0  large-vehicle  \n",
       "3  4283.0  large-vehicle  \n",
       "4  1674.0  small-vehicle  "
      ]
     },
     "metadata": {},
     "output_type": "display_data"
    }
   ],
   "source": [
    "data = get_labeltxt(train_path)\n",
    "display(data.head())"
   ]
  },
  {
   "cell_type": "code",
   "execution_count": 6,
   "metadata": {},
   "outputs": [],
   "source": [
    "data.to_csv(os.path.join(base, 'train_labels.txt'), index=False)"
   ]
  },
  {
   "cell_type": "code",
   "execution_count": 7,
   "metadata": {},
   "outputs": [
    {
     "name": "stderr",
     "output_type": "stream",
     "text": [
      "100%|█████████████████████████████████████████████████████████████████████████████| 458/458 [01:25<00:00,  5.35it/s]\n"
     ]
    },
    {
     "data": {
      "text/html": [
       "<div>\n",
       "<style scoped>\n",
       "    .dataframe tbody tr th:only-of-type {\n",
       "        vertical-align: middle;\n",
       "    }\n",
       "\n",
       "    .dataframe tbody tr th {\n",
       "        vertical-align: top;\n",
       "    }\n",
       "\n",
       "    .dataframe thead th {\n",
       "        text-align: right;\n",
       "    }\n",
       "</style>\n",
       "<table border=\"1\" class=\"dataframe\">\n",
       "  <thead>\n",
       "    <tr style=\"text-align: right;\">\n",
       "      <th></th>\n",
       "      <th>path</th>\n",
       "      <th>x1</th>\n",
       "      <th>y1</th>\n",
       "      <th>x2</th>\n",
       "      <th>y2</th>\n",
       "      <th>class</th>\n",
       "    </tr>\n",
       "  </thead>\n",
       "  <tbody>\n",
       "    <tr>\n",
       "      <th>0</th>\n",
       "      <td>C:\\Users\\rhkd8\\Desktop\\Faster-RCNN-for-Dota\\da...</td>\n",
       "      <td>874.0</td>\n",
       "      <td>874.0</td>\n",
       "      <td>940.0</td>\n",
       "      <td>913.0</td>\n",
       "      <td>small-vehicle</td>\n",
       "    </tr>\n",
       "    <tr>\n",
       "      <th>1</th>\n",
       "      <td>C:\\Users\\rhkd8\\Desktop\\Faster-RCNN-for-Dota\\da...</td>\n",
       "      <td>638.0</td>\n",
       "      <td>935.0</td>\n",
       "      <td>694.0</td>\n",
       "      <td>962.0</td>\n",
       "      <td>large-vehicle</td>\n",
       "    </tr>\n",
       "    <tr>\n",
       "      <th>2</th>\n",
       "      <td>C:\\Users\\rhkd8\\Desktop\\Faster-RCNN-for-Dota\\da...</td>\n",
       "      <td>488.0</td>\n",
       "      <td>493.0</td>\n",
       "      <td>548.0</td>\n",
       "      <td>519.0</td>\n",
       "      <td>large-vehicle</td>\n",
       "    </tr>\n",
       "    <tr>\n",
       "      <th>3</th>\n",
       "      <td>C:\\Users\\rhkd8\\Desktop\\Faster-RCNN-for-Dota\\da...</td>\n",
       "      <td>464.0</td>\n",
       "      <td>464.0</td>\n",
       "      <td>536.0</td>\n",
       "      <td>489.0</td>\n",
       "      <td>large-vehicle</td>\n",
       "    </tr>\n",
       "    <tr>\n",
       "      <th>4</th>\n",
       "      <td>C:\\Users\\rhkd8\\Desktop\\Faster-RCNN-for-Dota\\da...</td>\n",
       "      <td>205.0</td>\n",
       "      <td>205.0</td>\n",
       "      <td>683.0</td>\n",
       "      <td>309.0</td>\n",
       "      <td>large-vehicle</td>\n",
       "    </tr>\n",
       "  </tbody>\n",
       "</table>\n",
       "</div>"
      ],
      "text/plain": [
       "                                                path     x1     y1     x2  \\\n",
       "0  C:\\Users\\rhkd8\\Desktop\\Faster-RCNN-for-Dota\\da...  874.0  874.0  940.0   \n",
       "1  C:\\Users\\rhkd8\\Desktop\\Faster-RCNN-for-Dota\\da...  638.0  935.0  694.0   \n",
       "2  C:\\Users\\rhkd8\\Desktop\\Faster-RCNN-for-Dota\\da...  488.0  493.0  548.0   \n",
       "3  C:\\Users\\rhkd8\\Desktop\\Faster-RCNN-for-Dota\\da...  464.0  464.0  536.0   \n",
       "4  C:\\Users\\rhkd8\\Desktop\\Faster-RCNN-for-Dota\\da...  205.0  205.0  683.0   \n",
       "\n",
       "      y2          class  \n",
       "0  913.0  small-vehicle  \n",
       "1  962.0  large-vehicle  \n",
       "2  519.0  large-vehicle  \n",
       "3  489.0  large-vehicle  \n",
       "4  309.0  large-vehicle  "
      ]
     },
     "metadata": {},
     "output_type": "display_data"
    }
   ],
   "source": [
    "data = get_labeltxt(val_path)\n",
    "display(data.head())"
   ]
  },
  {
   "cell_type": "code",
   "execution_count": 8,
   "metadata": {},
   "outputs": [],
   "source": [
    "data.to_csv(os.path.join(base, 'val_labels.txt'), index=False)"
   ]
  },
  {
   "cell_type": "markdown",
   "metadata": {},
   "source": [
    "---"
   ]
  }
 ],
 "metadata": {
  "kernelspec": {
   "display_name": "Python 3",
   "language": "python",
   "name": "python3"
  },
  "language_info": {
   "codemirror_mode": {
    "name": "ipython",
    "version": 3
   },
   "file_extension": ".py",
   "mimetype": "text/x-python",
   "name": "python",
   "nbconvert_exporter": "python",
   "pygments_lexer": "ipython3",
   "version": "3.7.6"
  }
 },
 "nbformat": 4,
 "nbformat_minor": 4
}

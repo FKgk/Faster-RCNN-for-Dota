{
 "cells": [
  {
   "cell_type": "code",
   "execution_count": 1,
   "metadata": {},
   "outputs": [],
   "source": [
    "import os\n",
    "import sys\n",
    "import cv2\n",
    "import time\n",
    "import json\n",
    "import random\n",
    "import pickle\n",
    "import datetime\n",
    "import numpy as np\n",
    "import pandas as pd\n",
    "from tqdm import tqdm\n",
    "from pprint import pprint\n",
    "import matplotlib.pyplot as plt\n",
    "from collections import Counter\n",
    "\n",
    "from PIL import Image\n",
    "import tensorflow as tf"
   ]
  },
  {
   "cell_type": "markdown",
   "metadata": {},
   "source": [
    "---"
   ]
  },
  {
   "cell_type": "code",
   "execution_count": 2,
   "metadata": {},
   "outputs": [],
   "source": [
    "## 공통(모든) 함수\n",
    "\n",
    "def get_file_names(name):\n",
    "    return f\"{name}.png\", f\"{name}.txt\"\n",
    "\n",
    "def read_image(name):\n",
    "    img = cv2.imread(name)\n",
    "    \n",
    "    return img if len(img.shape) == 3 else np.expand_dims(img, -1)\n",
    "\n",
    "def get_size(li):\n",
    "    w = li[0] - li[1]\n",
    "    h = li[2] - li[3]\n",
    "    return abs(w*h)\n",
    "\n",
    "def read_labels(name, bound=32*32):\n",
    "    labels = list()\n",
    "    \n",
    "    with open(name, 'r') as f:\n",
    "        for line in f.readlines():\n",
    "            label, x1,y1, x2,y2 = line.split()\n",
    "            numbers = list(map(int, map(float, [x1,y1,x2,y2])))\n",
    "            \n",
    "            if get_size(numbers) <= bound:\n",
    "                labels.append((label, *numbers))\n",
    "    \n",
    "    return labels\n",
    "\n",
    "def get_image(image, h, w, reshape):\n",
    "    return image[h-reshape:h, w-reshape:w, :]\n",
    "\n",
    "def get_minmax(n1, n2):\n",
    "    return min(n1, n2), max(n1, n2)\n",
    "\n",
    "def get_iou(y, p):\n",
    "    ix1, ax1 = get_minmax(y[0], p[0])\n",
    "    ix2, ax2 = get_minmax(y[1], p[1])\n",
    "    iy1, ay1 = get_minmax(y[2], p[2])\n",
    "    iy2, ay2 = get_minmax(y[3], p[3])\n",
    "    \n",
    "    inner = abs(ix2 - ax1) * abs(iy2 - ay1)\n",
    "    outer = abs(ax2 - ix1) * abs(ay2 - iy1)\n",
    "    \n",
    "    try:\n",
    "        return inner / outer\n",
    "    except ZeroDivisionError:\n",
    "        return 1\n",
    "\n",
    "def max0(x):\n",
    "    return max(x, 0)\n",
    "\n",
    "def get_labels(labels, h, w, reshape): #TODO: sdfajdf;ajksdf;ajdfkjasdkfj\n",
    "    start_y, end_y = h - reshape, h\n",
    "    start_x, end_x = w - reshape, w\n",
    "    selects = list()\n",
    "    \n",
    "    for label in labels:\n",
    "        gt, x1,x2, y1,y2 = label\n",
    "        \n",
    "        if x1 > end_x or y1 > end_y or x2 < start_x or y2 < start_y:\n",
    "            continue\n",
    "        \n",
    "        iou = get_iou(\n",
    "            [x1,x2, y1,y2],\n",
    "            [max(x1, start_x), min(x2, end_x), max(y1, start_y), min(y2, end_y)]\n",
    "        )\n",
    "        \n",
    "        if iou >= IOU_THRESHOLD:\n",
    "            selects.append([\n",
    "                gt, \n",
    "                max0(x1 - start_x), x2 - start_x,\n",
    "                max0(y1 - start_y), y2 - start_y\n",
    "            ])\n",
    "    \n",
    "    return selects\n",
    "\n",
    "def iter_resizing(image, labels, reshape=224, stride=112):\n",
    "    height, width, channel = image.shape\n",
    "    \n",
    "    for h in range(reshape, height, stride):\n",
    "        for w in range(reshape, width, stride):\n",
    "            yield get_image(image, h, w, reshape), get_labels(labels, h, w, reshape)\n",
    "\n",
    "def save_data(image, labels, index):\n",
    "    cv2.imwrite(f\"{FOLDER}/{index:06}.png\", image)\n",
    "    with open(f\"{FOLDER}/{index:06}.txt\", 'w') as f:\n",
    "        f.write(\"\\n\".join([\n",
    "            \" \".join(map(str, label)) for label in labels\n",
    "        ]))\n",
    "        \n",
    "def visual(file, color=(255,0,0), thickness=2):\n",
    "    print(file)\n",
    "    gts = list()\n",
    "    image_name, label_name = get_file_names(f\"{FOLDER}/{file}\")\n",
    "    image, labels = read_image(image_name), read_labels(label_name)\n",
    "    \n",
    "    for label in labels:\n",
    "        gt, x1,x2,y1,y2 = [label[0], *[int(d) for d in label[1:]]]\n",
    "        gts.append(gt)\n",
    "        image = cv2.rectangle(image, (x1,y1), (x2,y2), color, thickness)\n",
    "    \n",
    "    pprint(dict(Counter(gts)))\n",
    "    cv2.imshow(file, image)\n",
    "    cv2.waitKey(0)\n",
    "    cv2.destroyAllWindows()"
   ]
  },
  {
   "cell_type": "markdown",
   "metadata": {},
   "source": [
    "---"
   ]
  },
  {
   "cell_type": "markdown",
   "metadata": {},
   "source": [
    "## Data Save\n",
    "- labels 구성 : '정답, x1, x2, y1, y2'로 이루어져 있다."
   ]
  },
  {
   "cell_type": "code",
   "execution_count": 3,
   "metadata": {},
   "outputs": [],
   "source": [
    "FOLDER = f\"data-{datetime.date.today()}\" # 데이터 저장할 폴더\n",
    "load_path = os.path.join(os.getcwd(), 'save_dota_aug_train_change')\n",
    "IOU_THRESHOLD = 0.5\n",
    "\n",
    "os.makedirs(FOLDER, exist_ok=True)"
   ]
  },
  {
   "cell_type": "code",
   "execution_count": null,
   "metadata": {},
   "outputs": [
    {
     "name": "stderr",
     "output_type": "stream",
     "text": [
      "1127it [05:13,  5.36it/s]"
     ]
    }
   ],
   "source": [
    "file_list = sorted(set([\n",
    "    os.path.join(load_path, file[:-4]) \n",
    "    for file in os.listdir(load_path)\n",
    "]))\n",
    "\n",
    "index = 0\n",
    "label_sizes = list()\n",
    "for i, name in tqdm(enumerate(file_list)):\n",
    "    image_name, label_name = get_file_names(name)\n",
    "    image, labels = read_image(image_name), read_labels(label_name)\n",
    "    \n",
    "    for re_img, re_label in iter_resizing(image, labels, 224, 112):\n",
    "        if re_label:\n",
    "            save_data(re_img, re_label, index)\n",
    "            index += 1\n",
    "\n",
    "# Train data 총 3528개\n",
    "# 초당 2~10개 평균 5개로 환산시 700초 정도 -> 12분정도 소요"
   ]
  },
  {
   "cell_type": "markdown",
   "metadata": {},
   "source": [
    "----"
   ]
  },
  {
   "cell_type": "markdown",
   "metadata": {},
   "source": [
    "## Data Visualize"
   ]
  },
  {
   "cell_type": "code",
   "execution_count": null,
   "metadata": {},
   "outputs": [],
   "source": [
    "FOLDER = \"data-2021-09-11\"\n",
    "start, cnt = 0, 10\n",
    "for i in range(start, start + cnt):\n",
    "    visual(f\"{i:06}\")"
   ]
  },
  {
   "cell_type": "code",
   "execution_count": null,
   "metadata": {},
   "outputs": [],
   "source": [
    "# 수정 전 기존 파일 확인\n",
    "## FOLDER = \"save_dota_aug_train_change\"\n",
    "## FILE = \"P0002_augment\"\n",
    "## visual(FILE)"
   ]
  },
  {
   "cell_type": "markdown",
   "metadata": {},
   "source": [
    "---"
   ]
  },
  {
   "cell_type": "code",
   "execution_count": null,
   "metadata": {},
   "outputs": [],
   "source": [
    "# 모델 메모리 예측?\n",
    "\n",
    "# def s(x):\n",
    "#     return x ** 2\n",
    "\n",
    "# def cal_memory(x, byte=8):\n",
    "#     return (\n",
    "#         s(x) * 3 + \n",
    "#         s(x) * 64 *2 +\n",
    "#         s(x/2) * 128*2 +\n",
    "#         s(x/4) * 256*3 +\n",
    "#         s(x/8) * 512*3 +\n",
    "#         s(x/16) * 512*3 +\n",
    "        \n",
    "#         s(x*(9/8))*(256+512+512) + \n",
    "#         s(x/8)*2 +\n",
    "        \n",
    "#         s(x/8) * (9*1+9*4) +\n",
    "#         s(7)*256 +\n",
    "#         4096 + 4096 + 4096\n",
    "#         ) * byte\n",
    "\n",
    "# def b2gb(x):\n",
    "#     return x / 1024 / 1024 / 1024"
   ]
  }
 ],
 "metadata": {
  "kernelspec": {
   "display_name": "Python 3",
   "language": "python",
   "name": "python3"
  },
  "language_info": {
   "codemirror_mode": {
    "name": "ipython",
    "version": 3
   },
   "file_extension": ".py",
   "mimetype": "text/x-python",
   "name": "python",
   "nbconvert_exporter": "python",
   "pygments_lexer": "ipython3",
   "version": "3.8.3"
  }
 },
 "nbformat": 4,
 "nbformat_minor": 4
}

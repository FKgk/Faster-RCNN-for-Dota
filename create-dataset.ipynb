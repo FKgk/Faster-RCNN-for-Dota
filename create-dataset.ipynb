{
 "cells": [
  {
   "cell_type": "code",
   "execution_count": 1,
   "metadata": {},
   "outputs": [],
   "source": [
    "import os\n",
    "import pandas as pd\n",
    "from tqdm import tqdm"
   ]
  },
  {
   "cell_type": "code",
   "execution_count": 2,
   "metadata": {},
   "outputs": [],
   "source": [
    "base = os.path.join(os.getcwd(), 'datav2')\n",
    "\n",
    "train_load_path = os.path.join(base, 'train')\n",
    "val_load_path = os.path.join(base, 'val')\n",
    "\n",
    "train_save_path = os.path.join(base, 'train_labels.txt')\n",
    "val_save_path = os.path.join(base, 'val_labels.txt')\n",
    "\n",
    "biggers = ['P9847', 'P11054', 'P5203', 'P3536', 'P6637', 'P5789']"
   ]
  },
  {
   "cell_type": "code",
   "execution_count": 3,
   "metadata": {},
   "outputs": [],
   "source": [
    "# Task2\n",
    "def get_bbox(loc):\n",
    "    x = [loc[0], loc[2], loc[4], loc[6]]\n",
    "    y = [loc[1], loc[3], loc[5], loc[7]]\n",
    "    \n",
    "    return min(x), min(y), max(x), max(y)"
   ]
  },
  {
   "cell_type": "code",
   "execution_count": 4,
   "metadata": {},
   "outputs": [],
   "source": [
    "def get_labeltxt(path):\n",
    "    label_path = os.path.join(path, 'labelTxt')\n",
    "    data = {\n",
    "        'path': [],\n",
    "        'x1': [],\n",
    "        'y1': [],\n",
    "        'x2': [],\n",
    "        'y2': [],\n",
    "        'class': [],\n",
    "    }\n",
    "\n",
    "    for file_name in tqdm(os.listdir(label_path)):\n",
    "        if file_name[:-4] in biggers:\n",
    "            continue\n",
    "        \n",
    "        file = os.path.join(label_path, file_name)\n",
    "        image_path = os.path.join(path, 'images', file_name[:-4] + '.png')\n",
    "\n",
    "        with open(file, 'r') as f:\n",
    "            for line in f.readlines()[2:]:\n",
    "                loc = [float(i) for i in line.split(' ')[:-2]]\n",
    "                x1, y1, x2, y2 = get_bbox(loc)\n",
    "                clss = line.split(' ')[-2]\n",
    "\n",
    "                data['path'].append(image_path)\n",
    "                data['x1'].append(x1)\n",
    "                data['y1'].append(y1)\n",
    "                data['x2'].append(x2)\n",
    "                data['y2'].append(y2)\n",
    "                data['class'].append(clss)\n",
    "                \n",
    "    return data"
   ]
  },
  {
   "cell_type": "markdown",
   "metadata": {},
   "source": [
    "---"
   ]
  },
  {
   "cell_type": "code",
   "execution_count": 5,
   "metadata": {},
   "outputs": [
    {
     "name": "stderr",
     "output_type": "stream",
     "text": [
      "100%|█████████████████████████████████████████████████████████████████████████████| 1830/1830 [00:02<00:00, 801.75it/s]\n"
     ]
    },
    {
     "data": {
      "text/html": [
       "<div>\n",
       "<style scoped>\n",
       "    .dataframe tbody tr th:only-of-type {\n",
       "        vertical-align: middle;\n",
       "    }\n",
       "\n",
       "    .dataframe tbody tr th {\n",
       "        vertical-align: top;\n",
       "    }\n",
       "\n",
       "    .dataframe thead th {\n",
       "        text-align: right;\n",
       "    }\n",
       "</style>\n",
       "<table border=\"1\" class=\"dataframe\">\n",
       "  <thead>\n",
       "    <tr style=\"text-align: right;\">\n",
       "      <th></th>\n",
       "      <th>path</th>\n",
       "      <th>x1</th>\n",
       "      <th>y1</th>\n",
       "      <th>x2</th>\n",
       "      <th>y2</th>\n",
       "      <th>class</th>\n",
       "    </tr>\n",
       "  </thead>\n",
       "  <tbody>\n",
       "    <tr>\n",
       "      <th>0</th>\n",
       "      <td>C:\\Users\\ipsl\\Desktop\\Faster-RCNN-for-Dota\\dat...</td>\n",
       "      <td>2238.0</td>\n",
       "      <td>1791.0</td>\n",
       "      <td>2254.0</td>\n",
       "      <td>1813.0</td>\n",
       "      <td>small-vehicle</td>\n",
       "    </tr>\n",
       "    <tr>\n",
       "      <th>1</th>\n",
       "      <td>C:\\Users\\ipsl\\Desktop\\Faster-RCNN-for-Dota\\dat...</td>\n",
       "      <td>1462.0</td>\n",
       "      <td>2131.0</td>\n",
       "      <td>1472.0</td>\n",
       "      <td>2145.0</td>\n",
       "      <td>small-vehicle</td>\n",
       "    </tr>\n",
       "    <tr>\n",
       "      <th>2</th>\n",
       "      <td>C:\\Users\\ipsl\\Desktop\\Faster-RCNN-for-Dota\\dat...</td>\n",
       "      <td>1122.0</td>\n",
       "      <td>1607.0</td>\n",
       "      <td>1142.0</td>\n",
       "      <td>1620.0</td>\n",
       "      <td>small-vehicle</td>\n",
       "    </tr>\n",
       "    <tr>\n",
       "      <th>3</th>\n",
       "      <td>C:\\Users\\ipsl\\Desktop\\Faster-RCNN-for-Dota\\dat...</td>\n",
       "      <td>146.0</td>\n",
       "      <td>1860.0</td>\n",
       "      <td>164.0</td>\n",
       "      <td>1871.0</td>\n",
       "      <td>small-vehicle</td>\n",
       "    </tr>\n",
       "    <tr>\n",
       "      <th>4</th>\n",
       "      <td>C:\\Users\\ipsl\\Desktop\\Faster-RCNN-for-Dota\\dat...</td>\n",
       "      <td>211.0</td>\n",
       "      <td>1815.0</td>\n",
       "      <td>231.0</td>\n",
       "      <td>1823.0</td>\n",
       "      <td>small-vehicle</td>\n",
       "    </tr>\n",
       "  </tbody>\n",
       "</table>\n",
       "</div>"
      ],
      "text/plain": [
       "                                                path      x1      y1      x2  \\\n",
       "0  C:\\Users\\ipsl\\Desktop\\Faster-RCNN-for-Dota\\dat...  2238.0  1791.0  2254.0   \n",
       "1  C:\\Users\\ipsl\\Desktop\\Faster-RCNN-for-Dota\\dat...  1462.0  2131.0  1472.0   \n",
       "2  C:\\Users\\ipsl\\Desktop\\Faster-RCNN-for-Dota\\dat...  1122.0  1607.0  1142.0   \n",
       "3  C:\\Users\\ipsl\\Desktop\\Faster-RCNN-for-Dota\\dat...   146.0  1860.0   164.0   \n",
       "4  C:\\Users\\ipsl\\Desktop\\Faster-RCNN-for-Dota\\dat...   211.0  1815.0   231.0   \n",
       "\n",
       "       y2          class  \n",
       "0  1813.0  small-vehicle  \n",
       "1  2145.0  small-vehicle  \n",
       "2  1620.0  small-vehicle  \n",
       "3  1871.0  small-vehicle  \n",
       "4  1823.0  small-vehicle  "
      ]
     },
     "metadata": {},
     "output_type": "display_data"
    }
   ],
   "source": [
    "data = get_labeltxt(train_load_path)\n",
    "\n",
    "pd_data = pd.DataFrame(data, columns=['path', 'x1','y1','x2','y2','class'])\n",
    "pd_data.to_csv(train_save_path, header=False, index=False)\n",
    "\n",
    "display(pd_data.head())"
   ]
  },
  {
   "cell_type": "markdown",
   "metadata": {},
   "source": [
    "---"
   ]
  },
  {
   "cell_type": "code",
   "execution_count": 6,
   "metadata": {},
   "outputs": [
    {
     "name": "stderr",
     "output_type": "stream",
     "text": [
      "100%|███████████████████████████████████████████████████████████████████████████████| 593/593 [00:00<00:00, 881.66it/s]\n"
     ]
    },
    {
     "data": {
      "text/html": [
       "<div>\n",
       "<style scoped>\n",
       "    .dataframe tbody tr th:only-of-type {\n",
       "        vertical-align: middle;\n",
       "    }\n",
       "\n",
       "    .dataframe tbody tr th {\n",
       "        vertical-align: top;\n",
       "    }\n",
       "\n",
       "    .dataframe thead th {\n",
       "        text-align: right;\n",
       "    }\n",
       "</style>\n",
       "<table border=\"1\" class=\"dataframe\">\n",
       "  <thead>\n",
       "    <tr style=\"text-align: right;\">\n",
       "      <th></th>\n",
       "      <th>path</th>\n",
       "      <th>x1</th>\n",
       "      <th>y1</th>\n",
       "      <th>x2</th>\n",
       "      <th>y2</th>\n",
       "      <th>class</th>\n",
       "    </tr>\n",
       "  </thead>\n",
       "  <tbody>\n",
       "    <tr>\n",
       "      <th>0</th>\n",
       "      <td>C:\\Users\\ipsl\\Desktop\\Faster-RCNN-for-Dota\\dat...</td>\n",
       "      <td>921.0</td>\n",
       "      <td>874.0</td>\n",
       "      <td>940.0</td>\n",
       "      <td>913.0</td>\n",
       "      <td>small-vehicle</td>\n",
       "    </tr>\n",
       "    <tr>\n",
       "      <th>1</th>\n",
       "      <td>C:\\Users\\ipsl\\Desktop\\Faster-RCNN-for-Dota\\dat...</td>\n",
       "      <td>638.0</td>\n",
       "      <td>935.0</td>\n",
       "      <td>694.0</td>\n",
       "      <td>962.0</td>\n",
       "      <td>large-vehicle</td>\n",
       "    </tr>\n",
       "    <tr>\n",
       "      <th>2</th>\n",
       "      <td>C:\\Users\\ipsl\\Desktop\\Faster-RCNN-for-Dota\\dat...</td>\n",
       "      <td>488.0</td>\n",
       "      <td>493.0</td>\n",
       "      <td>548.0</td>\n",
       "      <td>519.0</td>\n",
       "      <td>large-vehicle</td>\n",
       "    </tr>\n",
       "    <tr>\n",
       "      <th>3</th>\n",
       "      <td>C:\\Users\\ipsl\\Desktop\\Faster-RCNN-for-Dota\\dat...</td>\n",
       "      <td>477.0</td>\n",
       "      <td>464.0</td>\n",
       "      <td>536.0</td>\n",
       "      <td>489.0</td>\n",
       "      <td>large-vehicle</td>\n",
       "    </tr>\n",
       "    <tr>\n",
       "      <th>4</th>\n",
       "      <td>C:\\Users\\ipsl\\Desktop\\Faster-RCNN-for-Dota\\dat...</td>\n",
       "      <td>643.0</td>\n",
       "      <td>205.0</td>\n",
       "      <td>683.0</td>\n",
       "      <td>309.0</td>\n",
       "      <td>large-vehicle</td>\n",
       "    </tr>\n",
       "  </tbody>\n",
       "</table>\n",
       "</div>"
      ],
      "text/plain": [
       "                                                path     x1     y1     x2  \\\n",
       "0  C:\\Users\\ipsl\\Desktop\\Faster-RCNN-for-Dota\\dat...  921.0  874.0  940.0   \n",
       "1  C:\\Users\\ipsl\\Desktop\\Faster-RCNN-for-Dota\\dat...  638.0  935.0  694.0   \n",
       "2  C:\\Users\\ipsl\\Desktop\\Faster-RCNN-for-Dota\\dat...  488.0  493.0  548.0   \n",
       "3  C:\\Users\\ipsl\\Desktop\\Faster-RCNN-for-Dota\\dat...  477.0  464.0  536.0   \n",
       "4  C:\\Users\\ipsl\\Desktop\\Faster-RCNN-for-Dota\\dat...  643.0  205.0  683.0   \n",
       "\n",
       "      y2          class  \n",
       "0  913.0  small-vehicle  \n",
       "1  962.0  large-vehicle  \n",
       "2  519.0  large-vehicle  \n",
       "3  489.0  large-vehicle  \n",
       "4  309.0  large-vehicle  "
      ]
     },
     "metadata": {},
     "output_type": "display_data"
    }
   ],
   "source": [
    "data = get_labeltxt(val_load_path)\n",
    "\n",
    "pd_data = pd.DataFrame(data, columns=['path', 'x1','y1','x2','y2','class'])\n",
    "pd_data.to_csv(val_save_path, header=False, index=False)\n",
    "\n",
    "display(pd_data.head())"
   ]
  },
  {
   "cell_type": "markdown",
   "metadata": {},
   "source": [
    "---"
   ]
  }
 ],
 "metadata": {
  "kernelspec": {
   "display_name": "Python 3",
   "language": "python",
   "name": "python3"
  },
  "language_info": {
   "codemirror_mode": {
    "name": "ipython",
    "version": 3
   },
   "file_extension": ".py",
   "mimetype": "text/x-python",
   "name": "python",
   "nbconvert_exporter": "python",
   "pygments_lexer": "ipython3",
   "version": "3.8.3"
  }
 },
 "nbformat": 4,
 "nbformat_minor": 4
}
